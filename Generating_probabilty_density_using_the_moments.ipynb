{
  "nbformat": 4,
  "nbformat_minor": 0,
  "metadata": {
    "colab": {
      "name": "Generating probabilty density using the moments.ipynb",
      "provenance": [],
      "include_colab_link": true
    },
    "kernelspec": {
      "name": "python3",
      "display_name": "Python 3"
    }
  },
  "cells": [
    {
      "cell_type": "markdown",
      "metadata": {
        "id": "view-in-github",
        "colab_type": "text"
      },
      "source": [
        "<a href=\"https://colab.research.google.com/github/alifele/Statisticals/blob/master/Generating_probabilty_density_using_the_moments.ipynb\" target=\"_parent\"><img src=\"https://colab.research.google.com/assets/colab-badge.svg\" alt=\"Open In Colab\"/></a>"
      ]
    },
    {
      "cell_type": "code",
      "metadata": {
        "id": "nbi0VsBd0iSz",
        "colab_type": "code",
        "colab": {}
      },
      "source": [
        "import numpy as np\n",
        "import matplotlib.pyplot as plt\n",
        "from math import factorial"
      ],
      "execution_count": 0,
      "outputs": []
    },
    {
      "cell_type": "markdown",
      "metadata": {
        "id": "9xoPgxqS0o8p",
        "colab_type": "text"
      },
      "source": [
        "# Generating Random Numbers Gaussian"
      ]
    },
    {
      "cell_type": "code",
      "metadata": {
        "id": "f2USGBW90n06",
        "colab_type": "code",
        "colab": {}
      },
      "source": [
        "rand = []\n",
        "total = 100000\n",
        "for i in range(total):\n",
        "  rand.append(np.random.randn())"
      ],
      "execution_count": 0,
      "outputs": []
    },
    {
      "cell_type": "code",
      "metadata": {
        "id": "QbYkbGy60u_8",
        "colab_type": "code",
        "colab": {}
      },
      "source": [
        "rand = np.array(rand)"
      ],
      "execution_count": 0,
      "outputs": []
    },
    {
      "cell_type": "code",
      "metadata": {
        "id": "nT9I9oyh0yip",
        "colab_type": "code",
        "colab": {
          "base_uri": "https://localhost:8080/",
          "height": 373
        },
        "outputId": "055d8cfd-2c5f-435d-caa6-3762ea4a279e"
      },
      "source": [
        "plt.hist(rand)"
      ],
      "execution_count": 50,
      "outputs": [
        {
          "output_type": "execute_result",
          "data": {
            "text/plain": [
              "(array([   7.,   68.,  404., 1336., 2632., 2876., 1831.,  702.,  128.,\n",
              "          16.]),\n",
              " array([-3.92462057, -3.16615101, -2.40768146, -1.6492119 , -0.89074234,\n",
              "        -0.13227279,  0.62619677,  1.38466633,  2.14313588,  2.90160544,\n",
              "         3.660075  ]),\n",
              " <a list of 10 Patch objects>)"
            ]
          },
          "metadata": {
            "tags": []
          },
          "execution_count": 50
        },
        {
          "output_type": "display_data",
          "data": {
            "image/png": "[encoded data removed]",
            "text/plain": [
              "<Figure size 432x288 with 1 Axes>"
            ]
          },
          "metadata": {
            "tags": []
          }
        }
      ]
    },
    {
      "cell_type": "markdown",
      "metadata": {
        "id": "GbnUYq7c1loB",
        "colab_type": "text"
      },
      "source": [
        "the N th moment :\n"
      ]
    },
    {
      "cell_type": "code",
      "metadata": {
        "id": "eifQc_l51BlW",
        "colab_type": "code",
        "colab": {}
      },
      "source": [
        "def N_moment(arr, n):\n",
        "  arr = arr ** n \n",
        "  Sum = np.sum(arr) / arr.shape[0]\n",
        "  \n",
        "  return Sum\n",
        "  "
      ],
      "execution_count": 0,
      "outputs": []
    },
    {
      "cell_type": "code",
      "metadata": {
        "id": "MVWLiHwl2Dyf",
        "colab_type": "code",
        "colab": {}
      },
      "source": [
        "kk = 150\n",
        "phi = np.zeros((2*kk,), dtype = np.csingle)\n",
        "k_ind = 0\n",
        "for k in range(-kk,kk):\n",
        "  scope = 0\n",
        "  for i in range(1,20):\n",
        "    scope += (-1j)**i / factorial(i) * k **i * N_moment(rand, i)\n",
        "  \n",
        "  phi[k_ind] = scope\n",
        "  k_ind +=1"
      ],
      "execution_count": 0,
      "outputs": []
    },
    {
      "cell_type": "code",
      "metadata": {
        "id": "kkNX-2512J_s",
        "colab_type": "code",
        "colab": {
          "base_uri": "https://localhost:8080/",
          "height": 293
        },
        "outputId": "5ce4b0a0-9b2c-4583-e469-e109dd4abef0"
      },
      "source": [
        "plt.plot(np.abs(np.fft.fft(phi)))"
      ],
      "execution_count": 77,
      "outputs": [
        {
          "output_type": "execute_result",
          "data": {
            "text/plain": [
              "[<matplotlib.lines.Line2D at 0x7f1b29cc9908>]"
            ]
          },
          "metadata": {
            "tags": []
          },
          "execution_count": 77
        },
        {
          "output_type": "display_data",
          "data": {
            "image/png": "[encoded data removed]",
            "text/plain": [
              "<Figure size 432x288 with 1 Axes>"
            ]
          },
          "metadata": {
            "tags": []
          }
        }
      ]
    },
    {
      "cell_type": "code",
      "metadata": {
        "id": "0NEmfOvz2RVk",
        "colab_type": "code",
        "colab": {}
      },
      "source": [
        "moman = []\n",
        "for i in range(1,12):\n",
        "  moman.append(N_moment(rand,i))"
      ],
      "execution_count": 0,
      "outputs": []
    },
    {
      "cell_type": "code",
      "metadata": {
        "id": "SEZNbSfU6-lY",
        "colab_type": "code",
        "colab": {
          "base_uri": "https://localhost:8080/",
          "height": 286
        },
        "outputId": "ca2c4b1d-d8b3-487d-d832-c7409519c690"
      },
      "source": [
        "plt.plot(moman)"
      ],
      "execution_count": 91,
      "outputs": [
        {
          "output_type": "execute_result",
          "data": {
            "text/plain": [
              "[<matplotlib.lines.Line2D at 0x7f1b29c5d2b0>]"
            ]
          },
          "metadata": {
            "tags": []
          },
          "execution_count": 91
        },
        {
          "output_type": "display_data",
          "data": {
            "image/png": "[encoded data removed]",
            "text/plain": [
              "<Figure size 432x288 with 1 Axes>"
            ]
          },
          "metadata": {
            "tags": []
          }
        }
      ]
    },
    {
      "cell_type": "code",
      "metadata": {
        "id": "vKod83FG26IQ",
        "colab_type": "code",
        "colab": {
          "base_uri": "https://localhost:8080/",
          "height": 34
        },
        "outputId": "77e053d3-d017-4626-c364-4e468e95e7cd"
      },
      "source": [
        "|a = np.array([1,3,4])\n",
        "a**2"
      ],
      "execution_count": 85,
      "outputs": [
        {
          "output_type": "execute_result",
          "data": {
            "text/plain": [
              "array([ 1,  9, 16])"
            ]
          },
          "metadata": {
            "tags": []
          },
          "execution_count": 85
        }
      ]
    },
    {
      "cell_type": "code",
      "metadata": {
        "id": "EaO6PeFW6ibF",
        "colab_type": "code",
        "colab": {
          "base_uri": "https://localhost:8080/",
          "height": 34
        },
        "outputId": "bc5fe8a2-e9e1-4f36-87de-0bb273202fbc"
      },
      "source": [
        "np.sum(a)/3"
      ],
      "execution_count": 86,
      "outputs": [
        {
          "output_type": "execute_result",
          "data": {
            "text/plain": [
              "2.6666666666666665"
            ]
          },
          "metadata": {
            "tags": []
          },
          "execution_count": 86
        }
      ]
    },
    {
      "cell_type": "code",
      "metadata": {
        "id": "gAMfFYdi6qiG",
        "colab_type": "code",
        "colab": {}
      },
      "source": [
        ""
      ],
      "execution_count": 0,
      "outputs": []
    }
  ]
}